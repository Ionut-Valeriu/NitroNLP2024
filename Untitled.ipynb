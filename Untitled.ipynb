{
 "cells": [
  {
   "cell_type": "code",
   "execution_count": 2,
   "id": "e558272d-8d6d-4c24-964e-8961e177697f",
   "metadata": {},
   "outputs": [
    {
     "data": {
      "text/plain": [
       "0.8600637619553666"
      ]
     },
     "execution_count": 2,
     "metadata": {},
     "output_type": "execute_result"
    }
   ],
   "source": [
    "import re\n",
    "import nltk\n",
    "import pandas as pd\n",
    "import matplotlib.pyplot as plt\n",
    "from nltk import word_tokenize\n",
    "from string import punctuation\n",
    "from gensim.models import Word2Vec\n",
    "from sklearn.neighbors import KNeighborsClassifier\n",
    "from sklearn.ensemble import RandomForestClassifier\n",
    "from sklearn.model_selection import train_test_split\n",
    "\n",
    "\n",
    "df = pd.read_csv(\"train.csv\")\n",
    "\n",
    "def nrAparitiiPunctuatie(line, punct):\n",
    "    return str(line).count(punct)\n",
    "\n",
    "df[\"class\"] = df[\"class\"].map({True: 1, False: 0})\n",
    "\n",
    "for tag in punctuation:\n",
    "    df[tag] = df['title'].apply(lambda x: str(x).count(tag))\n",
    "    max_tag_id = df[tag].idxmax()\n",
    "    # print(tag, \" = \", df.loc[max_tag_id, tag], \" on \", df.loc[max_tag_id, 'id'], \" is \", df.loc[max_tag_id, 'class'])\n",
    "\n",
    "X = df[ [\n",
    "    'id',\n",
    "    'class',\n",
    "    '!',\n",
    "    '#',\n",
    "    '<'\n",
    "] ]\n",
    "y = df['!']\n",
    "\n",
    "model = KNeighborsClassifier()\n",
    "model.fit(X, y)\n",
    "model.score(X, y)"
   ]
  },
  {
   "cell_type": "code",
   "execution_count": null,
   "id": "400d0ddc-2564-46d4-8e28-f9eef6eeaaca",
   "metadata": {},
   "outputs": [],
   "source": []
  }
 ],
 "metadata": {
  "kernelspec": {
   "display_name": "Python 3 (ipykernel)",
   "language": "python",
   "name": "python3"
  },
  "language_info": {
   "codemirror_mode": {
    "name": "ipython",
    "version": 3
   },
   "file_extension": ".py",
   "mimetype": "text/x-python",
   "name": "python",
   "nbconvert_exporter": "python",
   "pygments_lexer": "ipython3",
   "version": "3.10.12"
  }
 },
 "nbformat": 4,
 "nbformat_minor": 5
}
